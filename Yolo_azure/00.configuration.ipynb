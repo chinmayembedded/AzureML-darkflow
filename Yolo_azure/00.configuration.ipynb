{
 "cells": [
  {
   "cell_type": "markdown",
   "metadata": {},
   "source": [
    "# 00. Installation and configuration\n",
    "\n",
    "In this example you will optionally create an Azure Machine Learning Workspace and initialize your notebook directory to easily use this workspace.  Typically you will only need to run this once per notebook directory, and all other notebooks in this directory or any sub-directories will automatically use the settings you indicate here.\n",
    "\n",
    "\n",
    "## Prerequisites:\n",
    "\n",
    "### 1. Install Azure ML SDK\n",
    "\n",
    "**Before running this notebook, complete following steps. Then re-launch Jupyter notebooks.**\n",
    "\n",
    "Install [miniconda](https://conda.io/miniconda.html) if you don't have conda Python distribution already.\n",
    "\n",
    "Got to command line terminal window, and type\n",
    "\n",
    "```shell\n",
    "$ conda create -n myenv Python=3.6 cython numpy\n",
    "```\n",
    "\n",
    "On Windows, activate the environment:\n",
    "```shell\n",
    "$ conda activate myenv\n",
    "```\n",
    "\n",
    "If you are running Mac OS you should run\n",
    "```shell\n",
    "$ source activate myenv\n",
    "```\n",
    "Install azure-cli. This step can take several minutes.\n",
    "\n",
    "```shell\n",
    "(myenv) $ pip install azure-cli\n",
    "```\n",
    "\n",
    "Install or update azureml meta-package\n",
    "\n",
    "```\n",
    "(myenv) $ pip install --upgrade --extra-index-url https://azuremlsdktestpypi.azureedge.net/sdk-release/Preview/E7501C02541B433786111FE8E140CAA1 azureml-sdk[notebooks]\n",
    "```\n",
    "\n",
    "### 2. Install conda-aware Jupyter Notebook server, and run history widgets\n",
    "\n",
    "```shell\n",
    "# install Jupyter \n",
    "(myenv) $ conda install nb_conda\n",
    "\n",
    "# install run history widget\n",
    "(myenv) $ jupyter nbextension install --py --user azureml.train.widgets\n",
    "\n",
    "# enable run history widget\n",
    "(myenv) $ jupyter nbextension enable --py --user azureml.train.widgets\n",
    "```\n",
    "\n",
    "That's it! Now re-launch Jupyter notebooks from the new environment with Azure ML SDK.\n",
    "\n",
    "```shell\n",
    "(myenv) $ jupyter notebook\n",
    "```"
   ]
  },
  {
   "cell_type": "markdown",
   "metadata": {},
   "source": [
    "### Connect to your Azure Subscription\n",
    "\n",
    "In order to use an AML Workspace, first you need access to an Azure Subscription.  You can [create your own](https://azure.microsoft.com/en-us/free/) or get your existing subscription information from the [Azure portal](https://portal.azure.com).\n",
    "\n",
    "First login to azure and follow prompts to authenticate. Then check that your subscription is correct"
   ]
  },
  {
   "cell_type": "code",
   "execution_count": 1,
   "metadata": {},
   "outputs": [
    {
     "name": "stdout",
     "output_type": "stream",
     "text": [
      "\u001b[33mNote, we have launched a browser for you to login. For old experience with device code, use \"az login --use-device-code\"\u001b[0m\n",
      "Created new window in existing browser session.\n",
      "\u001b[33mYou have logged in. Now let us find all the subscriptions to which you have access...\u001b[0m\n",
      "[\n",
      "  {\n",
      "    \"cloudName\": \"AzureCloud\",\n",
      "    \"id\": \"22b4e5a3-9229-45e2-a9f6-8bbc0a6ebdd3\",\n",
      "    \"isDefault\": true,\n",
      "    \"name\": \"Pay-As-You-Go\",\n",
      "    \"state\": \"Enabled\",\n",
      "    \"tenantId\": \"a777201d-76f6-418d-a006-757537715aae\",\n",
      "    \"user\": {\n",
      "      \"name\": \"ms.iot@outlook.com\",\n",
      "      \"type\": \"user\"\n",
      "    }\n",
      "  }\n",
      "]\n"
     ]
    }
   ],
   "source": [
    "!az login"
   ]
  },
  {
   "cell_type": "code",
   "execution_count": 2,
   "metadata": {},
   "outputs": [
    {
     "name": "stdout",
     "output_type": "stream",
     "text": [
      "{\r\n",
      "  \"environmentName\": \"AzureCloud\",\r\n",
      "  \"id\": \"22b4e5a3-9229-45e2-a9f6-8bbc0a6ebdd3\",\r\n",
      "  \"isDefault\": true,\r\n",
      "  \"name\": \"Pay-As-You-Go\",\r\n",
      "  \"state\": \"Enabled\",\r\n",
      "  \"tenantId\": \"a777201d-76f6-418d-a006-757537715aae\",\r\n",
      "  \"user\": {\r\n",
      "    \"name\": \"ms.iot@outlook.com\",\r\n",
      "    \"type\": \"user\"\r\n",
      "  }\r\n",
      "}\r\n"
     ]
    }
   ],
   "source": [
    "!az account show"
   ]
  },
  {
   "cell_type": "markdown",
   "metadata": {},
   "source": [
    "If you have multiple subscriptions and need to change the active one, you can use a command\n",
    "```shell\n",
    "az account set -s <subscription-id>\n",
    "```"
   ]
  },
  {
   "cell_type": "markdown",
   "metadata": {},
   "source": [
    "### Register Machine Learning Services Resource Provider\n",
    "\n",
    "This step is required to use the Azure ML services backing the SDK."
   ]
  },
  {
   "cell_type": "code",
   "execution_count": 1,
   "metadata": {
    "scrolled": true
   },
   "outputs": [
    {
     "name": "stdout",
     "output_type": "stream",
     "text": [
      "\u001b[33mRegistering is still on-going. You can monitor using 'az provider show -n Microsoft.MachineLearningServices'\u001b[0m\n",
      "{\n",
      "  \"authorization\": {\n",
      "    \"applicationId\": \"0736f41a-0425-4b46-bdb5-1563eff02385\",\n",
      "    \"managedByRoleDefinitionId\": \"91d00862-cf55-46a5-9dce-260bbd92ce25\",\n",
      "    \"roleDefinitionId\": \"376aa7d7-51a9-463d-bd4d-7e1691345612\"\n",
      "  },\n",
      "  \"id\": \"/subscriptions/22b4e5a3-9229-45e2-a9f6-8bbc0a6ebdd3/providers/Microsoft.MachineLearningServices\",\n",
      "  \"namespace\": \"Microsoft.MachineLearningServices\",\n",
      "  \"registrationState\": \"Registered\",\n",
      "  \"resourceTypes\": [\n",
      "    {\n",
      "      \"aliases\": null,\n",
      "      \"apiVersions\": [\n",
      "        \"2018-03-01-preview\"\n",
      "      ],\n",
      "      \"locations\": [\n",
      "        \"East US 2\"\n",
      "      ],\n",
      "      \"properties\": null,\n",
      "      \"resourceType\": \"operations\"\n",
      "    },\n",
      "    {\n",
      "      \"aliases\": null,\n",
      "      \"apiVersions\": [\n",
      "        \"2018-03-01-preview\"\n",
      "      ],\n",
      "      \"capabilities\": \"CrossResourceGroupResourceMove, CrossSubscriptionResourceMove, SystemAssignedResourceIdentity\",\n",
      "      \"defaultApiVersion\": \"2018-03-01-preview\",\n",
      "      \"locations\": [\n",
      "        \"East US\",\n",
      "        \"Australia East\",\n",
      "        \"East US 2\",\n",
      "        \"West US 2\",\n",
      "        \"West Central US\",\n",
      "        \"Southeast Asia\",\n",
      "        \"West Europe\",\n",
      "        \"South Central US\"\n",
      "      ],\n",
      "      \"properties\": null,\n",
      "      \"resourceType\": \"workspaces\"\n",
      "    },\n",
      "    {\n",
      "      \"aliases\": null,\n",
      "      \"apiVersions\": [\n",
      "        \"2018-03-01-preview\"\n",
      "      ],\n",
      "      \"locations\": [\n",
      "        \"East US\",\n",
      "        \"Australia East\",\n",
      "        \"East US 2\",\n",
      "        \"West US 2\",\n",
      "        \"West Central US\",\n",
      "        \"Southeast Asia\",\n",
      "        \"West Europe\",\n",
      "        \"South Central US\"\n",
      "      ],\n",
      "      \"properties\": null,\n",
      "      \"resourceType\": \"workspaces/computes\"\n",
      "    },\n",
      "    {\n",
      "      \"aliases\": null,\n",
      "      \"apiVersions\": [\n",
      "        \"2018-03-01-preview\"\n",
      "      ],\n",
      "      \"locations\": [\n",
      "        \"East US 2\"\n",
      "      ],\n",
      "      \"properties\": null,\n",
      "      \"resourceType\": \"locations\"\n",
      "    },\n",
      "    {\n",
      "      \"aliases\": null,\n",
      "      \"apiVersions\": [\n",
      "        \"2018-03-01-preview\"\n",
      "      ],\n",
      "      \"locations\": [\n",
      "        \"East US\",\n",
      "        \"Australia East\",\n",
      "        \"East US 2\",\n",
      "        \"West US 2\",\n",
      "        \"West Central US\",\n",
      "        \"Southeast Asia\",\n",
      "        \"West Europe\",\n",
      "        \"South Central US\"\n",
      "      ],\n",
      "      \"properties\": null,\n",
      "      \"resourceType\": \"locations/computeOperationsStatus\"\n",
      "    }\n",
      "  ]\n",
      "}\n"
     ]
    }
   ],
   "source": [
    "# register the new RP\n",
    "!az provider register -n Microsoft.MachineLearningServices\n",
    "\n",
    "# check the registration status\n",
    "!az provider show -n Microsoft.MachineLearningServices"
   ]
  },
  {
   "cell_type": "markdown",
   "metadata": {},
   "source": [
    "### Check core SDK version number for validate your installation and for debugging purposes"
   ]
  },
  {
   "cell_type": "code",
   "execution_count": 7,
   "metadata": {
    "scrolled": true
   },
   "outputs": [
    {
     "name": "stdout",
     "output_type": "stream",
     "text": [
      "SDK Version: 0.1.4\n"
     ]
    }
   ],
   "source": [
    "import azureml.core\n",
    "\n",
    "print(\"SDK Version:\", azureml.core.VERSION)"
   ]
  },
  {
   "cell_type": "markdown",
   "metadata": {},
   "source": [
    "## Initialize an Azure ML Workspace\n",
    "### What is an Azure ML Workspace and why do I need one?\n",
    "\n",
    "An AML Workspace is an Azure resource that organaizes and coordinates the actions of many other Azure resources to assist in executing and sharing machine learning workflows.  In particular, an AML Workspace coordinates storage, databases, and compute resources providing added functionality for machine learning experimentation, operationalization, and the monitoring of operationalized models.\n",
    "\n",
    "\n",
    "### What do I need\n",
    "\n",
    "To create or access an Azure ML Workspace, you will need to import the AML library and specify following information:\n",
    "* A name for your workspace. You can choose one.\n",
    "* Your subscription id. Use *id* value from *az account show* output above. \n",
    "* The resource group name. Resource group organizes Azure resources and provides default region for the resources in the group. You can either specify a new one, in which case it gets created for your Workspace, or use an existing one or create a new one from [Azure portal](https://portal.azure.com)\n",
    "\n",
    "Please these values below. For workspace region, we prefer you use `eastus2` or `eastus2euap` (only if you have access to EUAP) for most scenarios. Other supported regions include `westcentralus`, `southeastasia`, `westeurope`, `australiaeast`, although their support might lag behind `eastus2` and `eastus2euap`."
   ]
  },
  {
   "cell_type": "code",
   "execution_count": 8,
   "metadata": {},
   "outputs": [],
   "source": [
    "subscription_id = \"<Enter the subscription here>\"\n",
    "resource_group = \"tf_yolo\"\n",
    "workspace_name = \"tf_yolo\"\n",
    "workspace_region = \"eastus2\" # or eastus2euap"
   ]
  },
  {
   "cell_type": "markdown",
   "metadata": {},
   "source": [
    "## Creating a workspace\n",
    "If you already have access to an AML Workspace you want to use, you can skip this cell.  Otherwise, this cell will create an AML workspace for you in a subscription provided you have the correct permissions.\n",
    "\n",
    "This will fail when:\n",
    "1. The workspace already exists\n",
    "2. You do not have permission to create a workspace in the resource group\n",
    "3. You are not a subscription owner or contributor and no Azure ML workspaces have ever been created in this subscription\n",
    "\n",
    "If workspace creation fails for any reason other than already existing, please work with your IT admin to provide you with the appropriate permissions or to provision the required resources.\n",
    "\n",
    "**Note** The workspace creation can take several minutes."
   ]
  },
  {
   "cell_type": "code",
   "execution_count": 9,
   "metadata": {
    "scrolled": false
   },
   "outputs": [
    {
     "data": {
      "text/plain": [
       "{'id': '/subscriptions/22b4e5a3-9229-45e2-a9f6-8bbc0a6ebdd3/resourceGroups/tf_yolo/providers/Microsoft.MachineLearningServices/workspaces/tf_yolo',\n",
       " 'name': 'tf_yolo',\n",
       " 'location': 'eastus2',\n",
       " 'type': 'Microsoft.MachineLearningServices/workspaces',\n",
       " 'description': '',\n",
       " 'friendlyName': 'tf_yolo',\n",
       " 'containerRegistry': '/subscriptions/22b4e5a3-9229-45e2-a9f6-8bbc0a6ebdd3/resourcegroups/tf_yolo/providers/microsoft.containerregistry/registries/tfyoloacrvhwldkri',\n",
       " 'keyVault': '/subscriptions/22b4e5a3-9229-45e2-a9f6-8bbc0a6ebdd3/resourcegroups/tf_yolo/providers/microsoft.keyvault/vaults/tfyolokeyvaultxekfdydd',\n",
       " 'applicationInsights': '/subscriptions/22b4e5a3-9229-45e2-a9f6-8bbc0a6ebdd3/resourcegroups/tf_yolo/providers/microsoft.insights/components/tfyoloinsightsvnsirdlu',\n",
       " 'batchaiWorkspace': '/subscriptions/22b4e5a3-9229-45e2-a9f6-8bbc0a6ebdd3/resourcegroups/tf_yolo/providers/microsoft.batchai/workspaces/tfyolobatchai_veskuyjg',\n",
       " 'identityPrincipalId': '57796f46-b9c2-4cd6-abc0-113875880e5d',\n",
       " 'identityTenantId': 'a777201d-76f6-418d-a006-757537715aae',\n",
       " 'identityType': 'SystemAssigned',\n",
       " 'storageAccount': '/subscriptions/22b4e5a3-9229-45e2-a9f6-8bbc0a6ebdd3/resourcegroups/tf_yolo/providers/microsoft.storage/storageaccounts/tfyolostoragegvvgjwke'}"
      ]
     },
     "execution_count": 9,
     "metadata": {},
     "output_type": "execute_result"
    }
   ],
   "source": [
    "# import the Workspace class and check the azureml SDK version\n",
    "from azureml.core import Workspace\n",
    "\n",
    "ws = Workspace.create(name = workspace_name,\n",
    "                      subscription_id = subscription_id,\n",
    "                      resource_group = resource_group, \n",
    "                      location = workspace_region)\n",
    "ws.get_details()"
   ]
  },
  {
   "cell_type": "markdown",
   "metadata": {},
   "source": [
    "## Configuring your local environment\n",
    "You can validate that you have access to the specified workspace and write a configuration file to the default configuration location, `./aml_config/config.json`."
   ]
  },
  {
   "cell_type": "code",
   "execution_count": 10,
   "metadata": {},
   "outputs": [
    {
     "name": "stdout",
     "output_type": "stream",
     "text": [
      "Wrote the config file config.json to: /home/chinmaysawant/azureMLPreview/AzureMLPreview-master-17august/notebooks/Yolo/aml_config/config.json\n"
     ]
    }
   ],
   "source": [
    "ws = Workspace(workspace_name = workspace_name,\n",
    "               subscription_id = subscription_id,\n",
    "               resource_group = resource_group)\n",
    "\n",
    "# persist the subscription id, resource group name, and workspace name in aml_config/config.json.\n",
    "ws.write_config()"
   ]
  },
  {
   "cell_type": "markdown",
   "metadata": {},
   "source": [
    "You can then load the workspace from this config file from any notebook in the current directory."
   ]
  },
  {
   "cell_type": "code",
   "execution_count": 11,
   "metadata": {
    "scrolled": true
   },
   "outputs": [
    {
     "name": "stdout",
     "output_type": "stream",
     "text": [
      "Found the config file in: /home/chinmaysawant/azureMLPreview/AzureMLPreview-master-17august/notebooks/Yolo/aml_config/config.json\n"
     ]
    },
    {
     "data": {
      "text/plain": [
       "{'id': '/subscriptions/22b4e5a3-9229-45e2-a9f6-8bbc0a6ebdd3/resourceGroups/tf_yolo/providers/Microsoft.MachineLearningServices/workspaces/tf_yolo',\n",
       " 'name': 'tf_yolo',\n",
       " 'location': 'eastus2',\n",
       " 'type': 'Microsoft.MachineLearningServices/workspaces',\n",
       " 'description': '',\n",
       " 'friendlyName': 'tf_yolo',\n",
       " 'containerRegistry': '/subscriptions/22b4e5a3-9229-45e2-a9f6-8bbc0a6ebdd3/resourcegroups/tf_yolo/providers/microsoft.containerregistry/registries/tfyoloacrvhwldkri',\n",
       " 'keyVault': '/subscriptions/22b4e5a3-9229-45e2-a9f6-8bbc0a6ebdd3/resourcegroups/tf_yolo/providers/microsoft.keyvault/vaults/tfyolokeyvaultxekfdydd',\n",
       " 'applicationInsights': '/subscriptions/22b4e5a3-9229-45e2-a9f6-8bbc0a6ebdd3/resourcegroups/tf_yolo/providers/microsoft.insights/components/tfyoloinsightsvnsirdlu',\n",
       " 'batchaiWorkspace': '/subscriptions/22b4e5a3-9229-45e2-a9f6-8bbc0a6ebdd3/resourcegroups/tf_yolo/providers/microsoft.batchai/workspaces/tfyolobatchai_veskuyjg',\n",
       " 'identityPrincipalId': '57796f46-b9c2-4cd6-abc0-113875880e5d',\n",
       " 'identityTenantId': 'a777201d-76f6-418d-a006-757537715aae',\n",
       " 'identityType': 'SystemAssigned',\n",
       " 'storageAccount': '/subscriptions/22b4e5a3-9229-45e2-a9f6-8bbc0a6ebdd3/resourcegroups/tf_yolo/providers/microsoft.storage/storageaccounts/tfyolostoragegvvgjwke'}"
      ]
     },
     "execution_count": 11,
     "metadata": {},
     "output_type": "execute_result"
    }
   ],
   "source": [
    "# load workspace configuratio from ./aml_config/config.json file.ß\n",
    "my_workspace = Workspace.from_config()\n",
    "my_workspace.get_details()"
   ]
  },
  {
   "cell_type": "markdown",
   "metadata": {},
   "source": [
    "## Create a folder to host all sample projects\n",
    "Lastly, create a folder where all the sample projects will be hosted."
   ]
  },
  {
   "cell_type": "code",
   "execution_count": 7,
   "metadata": {},
   "outputs": [
    {
     "name": "stdout",
     "output_type": "stream",
     "text": [
      "Sample projects will be created in ./sample_projects.\n"
     ]
    }
   ],
   "source": [
    "import os\n",
    "\n",
    "sample_projects_folder = './sample_projects'\n",
    "\n",
    "if not os.path.isdir(sample_projects_folder):\n",
    "    os.mkdir(sample_projects_folder)\n",
    "    \n",
    "print('Sample projects will be created in {}.'.format(sample_projects_folder))"
   ]
  },
  {
   "cell_type": "markdown",
   "metadata": {},
   "source": [
    "## Success!\n",
    "Great, you are ready to move on to the rest of the sample notebooks."
   ]
  },
  {
   "cell_type": "code",
   "execution_count": null,
   "metadata": {},
   "outputs": [],
   "source": []
  }
 ],
 "metadata": {
  "kernelspec": {
   "display_name": "Python 3",
   "language": "python",
   "name": "python3"
  },
  "language_info": {
   "codemirror_mode": {
    "name": "ipython",
    "version": 3
   },
   "file_extension": ".py",
   "mimetype": "text/x-python",
   "name": "python",
   "nbconvert_exporter": "python",
   "pygments_lexer": "ipython3",
   "version": "3.6.6"
  }
 },
 "nbformat": 4,
 "nbformat_minor": 2
}
